{
 "cells": [
  {
   "cell_type": "code",
   "execution_count": 2,
   "metadata": {},
   "outputs": [],
   "source": [
    "from tensorflow.keras.datasets import imdb\n",
    "from sklearn.model_selection import train_test_split\n",
    "\n",
    "(train_input, train_target), (test_input, test_target) = imdb.load_data(num_words=500)\n",
    "train_input, val_input, train_target, val_target = train_test_split(train_input, train_target, test_size=0.2, random_state=42)"
   ]
  },
  {
   "cell_type": "code",
   "execution_count": 3,
   "metadata": {},
   "outputs": [],
   "source": [
    "from tensorflow.keras.preprocessing.sequence import pad_sequences\n",
    "\n",
    "\n",
    "train_seq = pad_sequences(train_input, maxlen=100)\n",
    "val_seq = pad_sequences(val_input, maxlen=100)"
   ]
  },
  {
   "cell_type": "code",
   "execution_count": 4,
   "metadata": {},
   "outputs": [],
   "source": [
    "from tensorflow import keras\n",
    "\n",
    "model = keras.Sequential()\n",
    "model.add(keras.layers.Embedding(500, 16, input_length=100))\n",
    "model.add(keras.layers.LSTM(8))\n",
    "model.add(keras.layers.Dense(1, activation='sigmoid'))"
   ]
  },
  {
   "cell_type": "code",
   "execution_count": 5,
   "metadata": {},
   "outputs": [
    {
     "name": "stdout",
     "output_type": "stream",
     "text": [
      "Model: \"sequential\"\n",
      "_________________________________________________________________\n",
      " Layer (type)                Output Shape              Param #   \n",
      "=================================================================\n",
      " embedding (Embedding)       (None, 100, 16)           8000      \n",
      "                                                                 \n",
      " lstm (LSTM)                 (None, 8)                 800       \n",
      "                                                                 \n",
      " dense (Dense)               (None, 1)                 9         \n",
      "                                                                 \n",
      "=================================================================\n",
      "Total params: 8,809\n",
      "Trainable params: 8,809\n",
      "Non-trainable params: 0\n",
      "_________________________________________________________________\n"
     ]
    }
   ],
   "source": [
    "model.summary()"
   ]
  },
  {
   "cell_type": "code",
   "execution_count": 6,
   "metadata": {},
   "outputs": [
    {
     "name": "stdout",
     "output_type": "stream",
     "text": [
      "Epoch 1/100\n"
     ]
    },
    {
     "name": "stderr",
     "output_type": "stream",
     "text": [
      "2022-12-04 20:58:38.044080: W tensorflow/core/platform/profile_utils/cpu_utils.cc:128] Failed to get CPU frequency: 0 Hz\n"
     ]
    },
    {
     "name": "stdout",
     "output_type": "stream",
     "text": [
      "313/313 [==============================] - 5s 14ms/step - loss: 0.6918 - accuracy: 0.5515 - val_loss: 0.6903 - val_accuracy: 0.5838\n",
      "Epoch 2/100\n",
      "313/313 [==============================] - 4s 12ms/step - loss: 0.6867 - accuracy: 0.6168 - val_loss: 0.6824 - val_accuracy: 0.6500\n",
      "Epoch 3/100\n",
      "313/313 [==============================] - 4s 12ms/step - loss: 0.6655 - accuracy: 0.6575 - val_loss: 0.6356 - val_accuracy: 0.6460\n",
      "Epoch 4/100\n",
      "313/313 [==============================] - 4s 12ms/step - loss: 0.5932 - accuracy: 0.7201 - val_loss: 0.5774 - val_accuracy: 0.7438\n",
      "Epoch 5/100\n",
      "313/313 [==============================] - 4s 12ms/step - loss: 0.5596 - accuracy: 0.7512 - val_loss: 0.5526 - val_accuracy: 0.7524\n",
      "Epoch 6/100\n",
      "313/313 [==============================] - 4s 12ms/step - loss: 0.5355 - accuracy: 0.7642 - val_loss: 0.5297 - val_accuracy: 0.7604\n",
      "Epoch 7/100\n",
      "313/313 [==============================] - 4s 12ms/step - loss: 0.5141 - accuracy: 0.7700 - val_loss: 0.5105 - val_accuracy: 0.7716\n",
      "Epoch 8/100\n",
      "313/313 [==============================] - 4s 12ms/step - loss: 0.4947 - accuracy: 0.7797 - val_loss: 0.4952 - val_accuracy: 0.7770\n",
      "Epoch 9/100\n",
      "313/313 [==============================] - 4s 12ms/step - loss: 0.4781 - accuracy: 0.7864 - val_loss: 0.4823 - val_accuracy: 0.7824\n",
      "Epoch 10/100\n",
      "313/313 [==============================] - 4s 12ms/step - loss: 0.4661 - accuracy: 0.7910 - val_loss: 0.4724 - val_accuracy: 0.7878\n",
      "Epoch 11/100\n",
      "313/313 [==============================] - 4s 12ms/step - loss: 0.4569 - accuracy: 0.7969 - val_loss: 0.4663 - val_accuracy: 0.7862\n",
      "Epoch 12/100\n",
      "313/313 [==============================] - 4s 12ms/step - loss: 0.4503 - accuracy: 0.8003 - val_loss: 0.4609 - val_accuracy: 0.7862\n",
      "Epoch 13/100\n",
      "313/313 [==============================] - 4s 12ms/step - loss: 0.4444 - accuracy: 0.8034 - val_loss: 0.4568 - val_accuracy: 0.7898\n",
      "Epoch 14/100\n",
      "313/313 [==============================] - 4s 12ms/step - loss: 0.4403 - accuracy: 0.8054 - val_loss: 0.4537 - val_accuracy: 0.7894\n",
      "Epoch 15/100\n",
      "313/313 [==============================] - 4s 12ms/step - loss: 0.4363 - accuracy: 0.8058 - val_loss: 0.4511 - val_accuracy: 0.7922\n",
      "Epoch 16/100\n",
      "313/313 [==============================] - 4s 12ms/step - loss: 0.4333 - accuracy: 0.8084 - val_loss: 0.4478 - val_accuracy: 0.7962\n",
      "Epoch 17/100\n",
      "313/313 [==============================] - 4s 12ms/step - loss: 0.4305 - accuracy: 0.8098 - val_loss: 0.4466 - val_accuracy: 0.7972\n",
      "Epoch 18/100\n",
      "313/313 [==============================] - 4s 12ms/step - loss: 0.4281 - accuracy: 0.8109 - val_loss: 0.4448 - val_accuracy: 0.7956\n",
      "Epoch 19/100\n",
      "313/313 [==============================] - 4s 12ms/step - loss: 0.4260 - accuracy: 0.8091 - val_loss: 0.4431 - val_accuracy: 0.7958\n",
      "Epoch 20/100\n",
      "313/313 [==============================] - 4s 12ms/step - loss: 0.4244 - accuracy: 0.8113 - val_loss: 0.4421 - val_accuracy: 0.7950\n",
      "Epoch 21/100\n",
      "313/313 [==============================] - 4s 12ms/step - loss: 0.4226 - accuracy: 0.8130 - val_loss: 0.4419 - val_accuracy: 0.7954\n",
      "Epoch 22/100\n",
      "313/313 [==============================] - 4s 12ms/step - loss: 0.4213 - accuracy: 0.8130 - val_loss: 0.4408 - val_accuracy: 0.7958\n",
      "Epoch 23/100\n",
      "313/313 [==============================] - 4s 12ms/step - loss: 0.4200 - accuracy: 0.8141 - val_loss: 0.4405 - val_accuracy: 0.7942\n",
      "Epoch 24/100\n",
      "313/313 [==============================] - 4s 12ms/step - loss: 0.4192 - accuracy: 0.8119 - val_loss: 0.4401 - val_accuracy: 0.7954\n",
      "Epoch 25/100\n",
      "313/313 [==============================] - 4s 12ms/step - loss: 0.4181 - accuracy: 0.8140 - val_loss: 0.4445 - val_accuracy: 0.7910\n",
      "Epoch 26/100\n",
      "313/313 [==============================] - 4s 12ms/step - loss: 0.4175 - accuracy: 0.8123 - val_loss: 0.4388 - val_accuracy: 0.7972\n",
      "Epoch 27/100\n",
      "313/313 [==============================] - 4s 12ms/step - loss: 0.4164 - accuracy: 0.8138 - val_loss: 0.4400 - val_accuracy: 0.7956\n",
      "Epoch 28/100\n",
      "313/313 [==============================] - 4s 12ms/step - loss: 0.4156 - accuracy: 0.8152 - val_loss: 0.4379 - val_accuracy: 0.7948\n",
      "Epoch 29/100\n",
      "313/313 [==============================] - 4s 12ms/step - loss: 0.4149 - accuracy: 0.8152 - val_loss: 0.4369 - val_accuracy: 0.7966\n",
      "Epoch 30/100\n",
      "313/313 [==============================] - 4s 12ms/step - loss: 0.4142 - accuracy: 0.8147 - val_loss: 0.4382 - val_accuracy: 0.7994\n",
      "Epoch 31/100\n",
      "313/313 [==============================] - 4s 12ms/step - loss: 0.4132 - accuracy: 0.8141 - val_loss: 0.4359 - val_accuracy: 0.7968\n",
      "Epoch 32/100\n",
      "313/313 [==============================] - 4s 12ms/step - loss: 0.4123 - accuracy: 0.8156 - val_loss: 0.4356 - val_accuracy: 0.7964\n",
      "Epoch 33/100\n",
      "313/313 [==============================] - 4s 12ms/step - loss: 0.4118 - accuracy: 0.8166 - val_loss: 0.4357 - val_accuracy: 0.7966\n",
      "Epoch 34/100\n",
      "313/313 [==============================] - 4s 12ms/step - loss: 0.4114 - accuracy: 0.8163 - val_loss: 0.4351 - val_accuracy: 0.7980\n",
      "Epoch 35/100\n",
      "313/313 [==============================] - 4s 12ms/step - loss: 0.4109 - accuracy: 0.8156 - val_loss: 0.4337 - val_accuracy: 0.7992\n",
      "Epoch 36/100\n",
      "313/313 [==============================] - 4s 12ms/step - loss: 0.4103 - accuracy: 0.8156 - val_loss: 0.4365 - val_accuracy: 0.7968\n",
      "Epoch 37/100\n",
      "313/313 [==============================] - 4s 12ms/step - loss: 0.4099 - accuracy: 0.8163 - val_loss: 0.4329 - val_accuracy: 0.7976\n",
      "Epoch 38/100\n",
      "313/313 [==============================] - 4s 12ms/step - loss: 0.4096 - accuracy: 0.8160 - val_loss: 0.4349 - val_accuracy: 0.7980\n",
      "Epoch 39/100\n",
      "313/313 [==============================] - 4s 12ms/step - loss: 0.4086 - accuracy: 0.8162 - val_loss: 0.4350 - val_accuracy: 0.7958\n",
      "Epoch 40/100\n",
      "313/313 [==============================] - 4s 12ms/step - loss: 0.4082 - accuracy: 0.8166 - val_loss: 0.4321 - val_accuracy: 0.8000\n",
      "Epoch 41/100\n",
      "313/313 [==============================] - 4s 12ms/step - loss: 0.4077 - accuracy: 0.8159 - val_loss: 0.4332 - val_accuracy: 0.7988\n",
      "Epoch 42/100\n",
      "313/313 [==============================] - 4s 12ms/step - loss: 0.4070 - accuracy: 0.8164 - val_loss: 0.4325 - val_accuracy: 0.7996\n",
      "Epoch 43/100\n",
      "313/313 [==============================] - 4s 12ms/step - loss: 0.4070 - accuracy: 0.8167 - val_loss: 0.4312 - val_accuracy: 0.8000\n",
      "Epoch 44/100\n",
      "313/313 [==============================] - 4s 13ms/step - loss: 0.4061 - accuracy: 0.8173 - val_loss: 0.4353 - val_accuracy: 0.7998\n",
      "Epoch 45/100\n",
      "313/313 [==============================] - 4s 12ms/step - loss: 0.4055 - accuracy: 0.8184 - val_loss: 0.4316 - val_accuracy: 0.7988\n",
      "Epoch 46/100\n",
      "313/313 [==============================] - 4s 12ms/step - loss: 0.4050 - accuracy: 0.8173 - val_loss: 0.4303 - val_accuracy: 0.8000\n",
      "Epoch 47/100\n",
      "313/313 [==============================] - 4s 12ms/step - loss: 0.4046 - accuracy: 0.8178 - val_loss: 0.4324 - val_accuracy: 0.7990\n",
      "Epoch 48/100\n",
      "313/313 [==============================] - 4s 12ms/step - loss: 0.4040 - accuracy: 0.8163 - val_loss: 0.4309 - val_accuracy: 0.8004\n",
      "Epoch 49/100\n",
      "313/313 [==============================] - 4s 12ms/step - loss: 0.4037 - accuracy: 0.8185 - val_loss: 0.4294 - val_accuracy: 0.7984\n",
      "Epoch 50/100\n",
      "313/313 [==============================] - 4s 12ms/step - loss: 0.4033 - accuracy: 0.8177 - val_loss: 0.4295 - val_accuracy: 0.7998\n",
      "Epoch 51/100\n",
      "313/313 [==============================] - 4s 12ms/step - loss: 0.4024 - accuracy: 0.8178 - val_loss: 0.4285 - val_accuracy: 0.7994\n",
      "Epoch 52/100\n",
      "313/313 [==============================] - 4s 12ms/step - loss: 0.4018 - accuracy: 0.8191 - val_loss: 0.4300 - val_accuracy: 0.7996\n",
      "Epoch 53/100\n",
      "313/313 [==============================] - 4s 12ms/step - loss: 0.4016 - accuracy: 0.8184 - val_loss: 0.4305 - val_accuracy: 0.7976\n",
      "Epoch 54/100\n",
      "313/313 [==============================] - 4s 12ms/step - loss: 0.4010 - accuracy: 0.8176 - val_loss: 0.4288 - val_accuracy: 0.8008\n"
     ]
    }
   ],
   "source": [
    "rmsprop = keras.optimizers.RMSprop(learning_rate=1e-4)\n",
    "model.compile(optimizer=rmsprop, loss='binary_crossentropy', metrics=['accuracy'])\n",
    "checkpoint_cb = keras.callbacks.ModelCheckpoint('best-lstm-model.h5', save_best_only=True)\n",
    "early_stopping_cb = keras.callbacks.EarlyStopping(patience=3, restore_best_weights=True)\n",
    "history = model.fit(train_seq, train_target, epochs=100, batch_size=64, validation_data=(val_seq, val_target), callbacks=[checkpoint_cb, early_stopping_cb])"
   ]
  },
  {
   "cell_type": "code",
   "execution_count": 7,
   "metadata": {},
   "outputs": [
    {
     "data": {
      "image/png": "[encoded data removed]",
      "text/plain": [
       "<Figure size 640x480 with 1 Axes>"
      ]
     },
     "metadata": {},
     "output_type": "display_data"
    }
   ],
   "source": [
    "import matplotlib.pyplot as plt\n",
    "\n",
    "plt.plot(history.history['loss'])\n",
    "plt.plot(history.history['val_loss'])\n",
    "plt.xlabel('epoch')\n",
    "plt.ylabel('loss')\n",
    "plt.legend(['train', 'val'])\n",
    "plt.show()"
   ]
  },
  {
   "cell_type": "code",
   "execution_count": 8,
   "metadata": {},
   "outputs": [],
   "source": [
    "model2 = keras.Sequential()\n",
    "model2.add(keras.layers.Embedding(500, 6, input_length=100))\n",
    "model2.add(keras.layers.LSTM(8, dropout=0.3))\n",
    "model2.add(keras.layers.Dense(1, activation='sigmoid'))"
   ]
  },
  {
   "cell_type": "code",
   "execution_count": 9,
   "metadata": {},
   "outputs": [
    {
     "name": "stdout",
     "output_type": "stream",
     "text": [
      "Epoch 1/100\n",
      "313/313 [==============================] - 5s 12ms/step - loss: 0.6929 - accuracy: 0.5132 - val_loss: 0.6926 - val_accuracy: 0.5338\n",
      "Epoch 2/100\n",
      "313/313 [==============================] - 4s 12ms/step - loss: 0.6918 - accuracy: 0.5427 - val_loss: 0.6911 - val_accuracy: 0.5968\n",
      "Epoch 3/100\n",
      "313/313 [==============================] - 4s 12ms/step - loss: 0.6890 - accuracy: 0.6130 - val_loss: 0.6867 - val_accuracy: 0.6166\n",
      "Epoch 4/100\n",
      "313/313 [==============================] - 4s 12ms/step - loss: 0.6729 - accuracy: 0.6291 - val_loss: 0.6454 - val_accuracy: 0.6330\n",
      "Epoch 5/100\n",
      "313/313 [==============================] - 4s 12ms/step - loss: 0.6165 - accuracy: 0.6978 - val_loss: 0.6034 - val_accuracy: 0.7048\n",
      "Epoch 6/100\n",
      "313/313 [==============================] - 4s 12ms/step - loss: 0.5950 - accuracy: 0.7136 - val_loss: 0.5863 - val_accuracy: 0.7250\n",
      "Epoch 7/100\n",
      "313/313 [==============================] - 4s 12ms/step - loss: 0.5785 - accuracy: 0.7262 - val_loss: 0.5689 - val_accuracy: 0.7210\n",
      "Epoch 8/100\n",
      "313/313 [==============================] - 4s 12ms/step - loss: 0.5605 - accuracy: 0.7362 - val_loss: 0.5530 - val_accuracy: 0.7470\n",
      "Epoch 9/100\n",
      "313/313 [==============================] - 4s 12ms/step - loss: 0.5453 - accuracy: 0.7437 - val_loss: 0.5390 - val_accuracy: 0.7596\n",
      "Epoch 10/100\n",
      "313/313 [==============================] - 4s 12ms/step - loss: 0.5330 - accuracy: 0.7506 - val_loss: 0.5252 - val_accuracy: 0.7604\n",
      "Epoch 11/100\n",
      "313/313 [==============================] - 4s 12ms/step - loss: 0.5209 - accuracy: 0.7569 - val_loss: 0.5139 - val_accuracy: 0.7710\n",
      "Epoch 12/100\n",
      "313/313 [==============================] - 4s 12ms/step - loss: 0.5105 - accuracy: 0.7637 - val_loss: 0.5041 - val_accuracy: 0.7684\n",
      "Epoch 13/100\n",
      "313/313 [==============================] - 4s 12ms/step - loss: 0.4992 - accuracy: 0.7711 - val_loss: 0.4935 - val_accuracy: 0.7764\n",
      "Epoch 14/100\n",
      "313/313 [==============================] - 4s 12ms/step - loss: 0.4874 - accuracy: 0.7786 - val_loss: 0.4848 - val_accuracy: 0.7768\n",
      "Epoch 15/100\n",
      "313/313 [==============================] - 4s 12ms/step - loss: 0.4807 - accuracy: 0.7801 - val_loss: 0.4767 - val_accuracy: 0.7796\n",
      "Epoch 16/100\n",
      "313/313 [==============================] - 4s 13ms/step - loss: 0.4735 - accuracy: 0.7837 - val_loss: 0.4703 - val_accuracy: 0.7878\n",
      "Epoch 17/100\n",
      "313/313 [==============================] - 4s 12ms/step - loss: 0.4664 - accuracy: 0.7890 - val_loss: 0.4633 - val_accuracy: 0.7866\n",
      "Epoch 18/100\n",
      "313/313 [==============================] - 4s 12ms/step - loss: 0.4576 - accuracy: 0.7916 - val_loss: 0.4577 - val_accuracy: 0.7888\n",
      "Epoch 19/100\n",
      "313/313 [==============================] - 4s 12ms/step - loss: 0.4528 - accuracy: 0.7962 - val_loss: 0.4529 - val_accuracy: 0.7932\n",
      "Epoch 20/100\n",
      "313/313 [==============================] - 4s 12ms/step - loss: 0.4490 - accuracy: 0.7958 - val_loss: 0.4492 - val_accuracy: 0.7982\n",
      "Epoch 21/100\n",
      "313/313 [==============================] - 4s 12ms/step - loss: 0.4467 - accuracy: 0.7950 - val_loss: 0.4472 - val_accuracy: 0.7946\n",
      "Epoch 22/100\n",
      "313/313 [==============================] - 4s 12ms/step - loss: 0.4416 - accuracy: 0.7987 - val_loss: 0.4458 - val_accuracy: 0.7964\n",
      "Epoch 23/100\n",
      "313/313 [==============================] - 4s 12ms/step - loss: 0.4397 - accuracy: 0.8011 - val_loss: 0.4410 - val_accuracy: 0.7984\n",
      "Epoch 24/100\n",
      "313/313 [==============================] - 4s 12ms/step - loss: 0.4374 - accuracy: 0.8005 - val_loss: 0.4400 - val_accuracy: 0.8002\n",
      "Epoch 25/100\n",
      "313/313 [==============================] - 4s 12ms/step - loss: 0.4357 - accuracy: 0.7998 - val_loss: 0.4391 - val_accuracy: 0.8000\n",
      "Epoch 26/100\n",
      "313/313 [==============================] - 4s 12ms/step - loss: 0.4329 - accuracy: 0.8037 - val_loss: 0.4374 - val_accuracy: 0.7986\n",
      "Epoch 27/100\n",
      "313/313 [==============================] - 4s 12ms/step - loss: 0.4313 - accuracy: 0.8026 - val_loss: 0.4363 - val_accuracy: 0.7988\n",
      "Epoch 28/100\n",
      "313/313 [==============================] - 4s 12ms/step - loss: 0.4330 - accuracy: 0.8023 - val_loss: 0.4363 - val_accuracy: 0.8012\n",
      "Epoch 29/100\n",
      "313/313 [==============================] - 4s 12ms/step - loss: 0.4316 - accuracy: 0.8023 - val_loss: 0.4349 - val_accuracy: 0.8012\n",
      "Epoch 30/100\n",
      "313/313 [==============================] - 4s 12ms/step - loss: 0.4296 - accuracy: 0.8020 - val_loss: 0.4348 - val_accuracy: 0.8006\n",
      "Epoch 31/100\n",
      "313/313 [==============================] - 4s 12ms/step - loss: 0.4287 - accuracy: 0.8051 - val_loss: 0.4338 - val_accuracy: 0.7990\n",
      "Epoch 32/100\n",
      "313/313 [==============================] - 4s 12ms/step - loss: 0.4299 - accuracy: 0.8032 - val_loss: 0.4363 - val_accuracy: 0.7936\n",
      "Epoch 33/100\n",
      "313/313 [==============================] - 4s 12ms/step - loss: 0.4277 - accuracy: 0.8034 - val_loss: 0.4339 - val_accuracy: 0.7972\n",
      "Epoch 34/100\n",
      "313/313 [==============================] - 4s 12ms/step - loss: 0.4276 - accuracy: 0.8061 - val_loss: 0.4329 - val_accuracy: 0.8010\n",
      "Epoch 35/100\n",
      "313/313 [==============================] - 4s 12ms/step - loss: 0.4253 - accuracy: 0.8066 - val_loss: 0.4344 - val_accuracy: 0.8038\n",
      "Epoch 36/100\n",
      "313/313 [==============================] - 4s 12ms/step - loss: 0.4273 - accuracy: 0.8046 - val_loss: 0.4322 - val_accuracy: 0.7998\n",
      "Epoch 37/100\n",
      "313/313 [==============================] - 4s 12ms/step - loss: 0.4258 - accuracy: 0.8055 - val_loss: 0.4352 - val_accuracy: 0.7972\n",
      "Epoch 38/100\n",
      "313/313 [==============================] - 4s 12ms/step - loss: 0.4261 - accuracy: 0.8023 - val_loss: 0.4349 - val_accuracy: 0.8052\n",
      "Epoch 39/100\n",
      "313/313 [==============================] - 4s 12ms/step - loss: 0.4236 - accuracy: 0.8049 - val_loss: 0.4322 - val_accuracy: 0.7998\n",
      "Epoch 40/100\n",
      "313/313 [==============================] - 4s 12ms/step - loss: 0.4242 - accuracy: 0.8048 - val_loss: 0.4320 - val_accuracy: 0.7988\n",
      "Epoch 41/100\n",
      "313/313 [==============================] - 4s 12ms/step - loss: 0.4249 - accuracy: 0.8044 - val_loss: 0.4317 - val_accuracy: 0.7986\n",
      "Epoch 42/100\n",
      "313/313 [==============================] - 4s 12ms/step - loss: 0.4236 - accuracy: 0.8047 - val_loss: 0.4317 - val_accuracy: 0.8022\n",
      "Epoch 43/100\n",
      "313/313 [==============================] - 4s 12ms/step - loss: 0.4231 - accuracy: 0.8048 - val_loss: 0.4324 - val_accuracy: 0.7968\n",
      "Epoch 44/100\n",
      "313/313 [==============================] - 4s 12ms/step - loss: 0.4234 - accuracy: 0.8051 - val_loss: 0.4313 - val_accuracy: 0.7978\n",
      "Epoch 45/100\n",
      "313/313 [==============================] - 4s 12ms/step - loss: 0.4227 - accuracy: 0.8069 - val_loss: 0.4337 - val_accuracy: 0.8050\n",
      "Epoch 46/100\n",
      "313/313 [==============================] - 4s 12ms/step - loss: 0.4223 - accuracy: 0.8034 - val_loss: 0.4324 - val_accuracy: 0.8050\n",
      "Epoch 47/100\n",
      "313/313 [==============================] - 4s 12ms/step - loss: 0.4215 - accuracy: 0.8063 - val_loss: 0.4362 - val_accuracy: 0.8044\n"
     ]
    }
   ],
   "source": [
    "rmsprop = keras.optimizers.RMSprop(learning_rate=1e-4)\n",
    "model2.compile(optimizer=rmsprop, loss='binary_crossentropy', metrics=['accuracy'])\n",
    "checkpoint_cb = keras.callbacks.ModelCheckpoint('best-dropout-model.h5', save_best_only=True)\n",
    "early_stopping_cb = keras.callbacks.EarlyStopping(patience=3, restore_best_weights=True)\n",
    "history = model2.fit(train_seq, train_target, epochs=100, batch_size=64, validation_data=(val_seq, val_target), callbacks=[checkpoint_cb, early_stopping_cb])"
   ]
  },
  {
   "cell_type": "code",
   "execution_count": 10,
   "metadata": {},
   "outputs": [
    {
     "data": {
      "image/png": "[encoded data removed]",
      "text/plain": [
       "<Figure size 640x480 with 1 Axes>"
      ]
     },
     "metadata": {},
     "output_type": "display_data"
    }
   ],
   "source": [
    "plt.plot(history.history['loss'])\n",
    "plt.plot(history.history['val_loss'])\n",
    "plt.xlabel('epoch')\n",
    "plt.ylabel('loss')\n",
    "plt.legend(['train', 'val'])\n",
    "plt.show()"
   ]
  },
  {
   "cell_type": "code",
   "execution_count": 15,
   "metadata": {},
   "outputs": [],
   "source": [
    "model3 = keras.Sequential()\n",
    "model3.add(keras.layers.Embedding(500, 16, input_length=100))\n",
    "model3.add(keras.layers.LSTM(8, dropout=0.3, return_sequences=True))\n",
    "model3.add(keras.layers.LSTM(8, dropout=0.3))\n",
    "model3.add(keras.layers.Dense(1, activation='sigmoid'))"
   ]
  },
  {
   "cell_type": "code",
   "execution_count": 16,
   "metadata": {},
   "outputs": [
    {
     "name": "stdout",
     "output_type": "stream",
     "text": [
      "Model: \"sequential_3\"\n",
      "_________________________________________________________________\n",
      " Layer (type)                Output Shape              Param #   \n",
      "=================================================================\n",
      " embedding_3 (Embedding)     (None, 100, 16)           8000      \n",
      "                                                                 \n",
      " lstm_3 (LSTM)               (None, 100, 8)            800       \n",
      "                                                                 \n",
      " lstm_4 (LSTM)               (None, 8)                 544       \n",
      "                                                                 \n",
      " dense_3 (Dense)             (None, 1)                 9         \n",
      "                                                                 \n",
      "=================================================================\n",
      "Total params: 9,353\n",
      "Trainable params: 9,353\n",
      "Non-trainable params: 0\n",
      "_________________________________________________________________\n"
     ]
    }
   ],
   "source": [
    "model3.summary()"
   ]
  },
  {
   "cell_type": "code",
   "execution_count": 17,
   "metadata": {},
   "outputs": [
    {
     "name": "stdout",
     "output_type": "stream",
     "text": [
      "Epoch 1/100\n",
      "313/313 [==============================] - 10s 25ms/step - loss: 0.6929 - accuracy: 0.5207 - val_loss: 0.6925 - val_accuracy: 0.5762\n",
      "Epoch 2/100\n",
      "313/313 [==============================] - 8s 24ms/step - loss: 0.6919 - accuracy: 0.5694 - val_loss: 0.6905 - val_accuracy: 0.6224\n",
      "Epoch 3/100\n",
      "313/313 [==============================] - 8s 24ms/step - loss: 0.6865 - accuracy: 0.6265 - val_loss: 0.6796 - val_accuracy: 0.6454\n",
      "Epoch 4/100\n",
      "313/313 [==============================] - 8s 24ms/step - loss: 0.6537 - accuracy: 0.6675 - val_loss: 0.6195 - val_accuracy: 0.7018\n",
      "Epoch 5/100\n",
      "313/313 [==============================] - 8s 24ms/step - loss: 0.5918 - accuracy: 0.7171 - val_loss: 0.5783 - val_accuracy: 0.7216\n",
      "Epoch 6/100\n",
      "313/313 [==============================] - 8s 24ms/step - loss: 0.5591 - accuracy: 0.7362 - val_loss: 0.5498 - val_accuracy: 0.7404\n",
      "Epoch 7/100\n",
      "313/313 [==============================] - 8s 24ms/step - loss: 0.5351 - accuracy: 0.7477 - val_loss: 0.5257 - val_accuracy: 0.7504\n",
      "Epoch 8/100\n",
      "313/313 [==============================] - 8s 24ms/step - loss: 0.5160 - accuracy: 0.7575 - val_loss: 0.5107 - val_accuracy: 0.7564\n",
      "Epoch 9/100\n",
      "313/313 [==============================] - 8s 24ms/step - loss: 0.5028 - accuracy: 0.7631 - val_loss: 0.4981 - val_accuracy: 0.7618\n",
      "Epoch 10/100\n",
      "297/313 [===========================>..] - ETA: 0s - loss: 0.4926 - accuracy: 0.7700"
     ]
    },
    {
     "ename": "InvalidArgumentError",
     "evalue": "Graph execution error:\n\nDetected at node 'RMSprop/RMSprop/update_5/truediv' defined at (most recent call last):\n    File \"/Library/Developer/CommandLineTools/Library/Frameworks/Python3.framework/Versions/3.9/lib/python3.9/runpy.py\", line 197, in _run_module_as_main\n      return _run_code(code, main_globals, None,\n    File \"/Library/Developer/CommandLineTools/Library/Frameworks/Python3.framework/Versions/3.9/lib/python3.9/runpy.py\", line 87, in _run_code\n      exec(code, run_globals)\n    File \"/Users/araina/Library/Python/3.9/lib/python/site-packages/ipykernel_launcher.py\", line 17, in <module>\n      app.launch_new_instance()\n    File \"/Users/araina/Library/Python/3.9/lib/python/site-packages/traitlets/config/application.py\", line 982, in launch_instance\n      app.start()\n    File \"/Users/araina/Library/Python/3.9/lib/python/site-packages/ipykernel/kernelapp.py\", line 712, in start\n      self.io_loop.start()\n    File \"/Users/araina/Library/Python/3.9/lib/python/site-packages/tornado/platform/asyncio.py\", line 215, in start\n      self.asyncio_loop.run_forever()\n    File \"/Library/Developer/CommandLineTools/Library/Frameworks/Python3.framework/Versions/3.9/lib/python3.9/asyncio/base_events.py\", line 596, in run_forever\n      self._run_once()\n    File \"/Library/Developer/CommandLineTools/Library/Frameworks/Python3.framework/Versions/3.9/lib/python3.9/asyncio/base_events.py\", line 1890, in _run_once\n      handle._run()\n    File \"/Library/Developer/CommandLineTools/Library/Frameworks/Python3.framework/Versions/3.9/lib/python3.9/asyncio/events.py\", line 80, in _run\n      self._context.run(self._callback, *self._args)\n    File \"/Users/araina/Library/Python/3.9/lib/python/site-packages/ipykernel/kernelbase.py\", line 510, in dispatch_queue\n      await self.process_one()\n    File \"/Users/araina/Library/Python/3.9/lib/python/site-packages/ipykernel/kernelbase.py\", line 499, in process_one\n      await dispatch(*args)\n    File \"/Users/araina/Library/Python/3.9/lib/python/site-packages/ipykernel/kernelbase.py\", line 406, in dispatch_shell\n      await result\n    File \"/Users/araina/Library/Python/3.9/lib/python/site-packages/ipykernel/kernelbase.py\", line 730, in execute_request\n      reply_content = await reply_content\n    File \"/Users/araina/Library/Python/3.9/lib/python/site-packages/ipykernel/ipkernel.py\", line 383, in do_execute\n      res = shell.run_cell(\n    File \"/Users/araina/Library/Python/3.9/lib/python/site-packages/ipykernel/zmqshell.py\", line 528, in run_cell\n      return super().run_cell(*args, **kwargs)\n    File \"/Users/araina/Library/Python/3.9/lib/python/site-packages/IPython/core/interactiveshell.py\", line 2885, in run_cell\n      result = self._run_cell(\n    File \"/Users/araina/Library/Python/3.9/lib/python/site-packages/IPython/core/interactiveshell.py\", line 2940, in _run_cell\n      return runner(coro)\n    File \"/Users/araina/Library/Python/3.9/lib/python/site-packages/IPython/core/async_helpers.py\", line 129, in _pseudo_sync_runner\n      coro.send(None)\n    File \"/Users/araina/Library/Python/3.9/lib/python/site-packages/IPython/core/interactiveshell.py\", line 3139, in run_cell_async\n      has_raised = await self.run_ast_nodes(code_ast.body, cell_name,\n    File \"/Users/araina/Library/Python/3.9/lib/python/site-packages/IPython/core/interactiveshell.py\", line 3318, in run_ast_nodes\n      if await self.run_code(code, result, async_=asy):\n    File \"/Users/araina/Library/Python/3.9/lib/python/site-packages/IPython/core/interactiveshell.py\", line 3378, in run_code\n      exec(code_obj, self.user_global_ns, self.user_ns)\n    File \"/var/folders/4p/blmn2snd51lbm787ttprr8m00000gn/T/ipykernel_10954/668584452.py\", line 5, in <module>\n      history = model3.fit(train_seq, train_target, epochs=100, batch_size=64, validation_data=(val_seq, val_target), callbacks=[checkpoint_cb, early_stopping_cb])\n    File \"/Users/araina/Library/Python/3.9/lib/python/site-packages/keras/utils/traceback_utils.py\", line 65, in error_handler\n      return fn(*args, **kwargs)\n    File \"/Users/araina/Library/Python/3.9/lib/python/site-packages/keras/engine/training.py\", line 1564, in fit\n      tmp_logs = self.train_function(iterator)\n    File \"/Users/araina/Library/Python/3.9/lib/python/site-packages/keras/engine/training.py\", line 1160, in train_function\n      return step_function(self, iterator)\n    File \"/Users/araina/Library/Python/3.9/lib/python/site-packages/keras/engine/training.py\", line 1146, in step_function\n      outputs = model.distribute_strategy.run(run_step, args=(data,))\n    File \"/Users/araina/Library/Python/3.9/lib/python/site-packages/keras/engine/training.py\", line 1135, in run_step\n      outputs = model.train_step(data)\n    File \"/Users/araina/Library/Python/3.9/lib/python/site-packages/keras/engine/training.py\", line 997, in train_step\n      self.optimizer.minimize(loss, self.trainable_variables, tape=tape)\n    File \"/Users/araina/Library/Python/3.9/lib/python/site-packages/keras/optimizers/optimizer_v2/optimizer_v2.py\", line 579, in minimize\n      return self.apply_gradients(grads_and_vars, name=name)\n    File \"/Users/araina/Library/Python/3.9/lib/python/site-packages/keras/optimizers/optimizer_v2/optimizer_v2.py\", line 738, in apply_gradients\n      return tf.__internal__.distribute.interim.maybe_merge_call(\n    File \"/Users/araina/Library/Python/3.9/lib/python/site-packages/keras/optimizers/optimizer_v2/optimizer_v2.py\", line 797, in _distributed_apply\n      update_op = distribution.extended.update(\n    File \"/Users/araina/Library/Python/3.9/lib/python/site-packages/keras/optimizers/optimizer_v2/optimizer_v2.py\", line 776, in apply_grad_to_update_var\n      update_op = self._resource_apply_dense(grad, var, **apply_kwargs)\n    File \"/Users/araina/Library/Python/3.9/lib/python/site-packages/keras/optimizers/optimizer_v2/rmsprop.py\", line 241, in _resource_apply_dense\n      var_t = var - coefficients[\"lr_t\"] * grad / (\nNode: 'RMSprop/RMSprop/update_5/truediv'\nIncompatible shapes: [0] vs. [8,32]\n\t [[{{node RMSprop/RMSprop/update_5/truediv}}]] [Op:__inference_train_function_178348]",
     "output_type": "error",
     "traceback": [
      "\u001b[0;31m---------------------------------------------------------------------------\u001b[0m",
      "\u001b[0;31mInvalidArgumentError\u001b[0m                      Traceback (most recent call last)",
      "Cell \u001b[0;32mIn [17], line 5\u001b[0m\n\u001b[1;32m      3\u001b[0m checkpoint_cb \u001b[39m=\u001b[39m keras\u001b[39m.\u001b[39mcallbacks\u001b[39m.\u001b[39mModelCheckpoint(\u001b[39m'\u001b[39m\u001b[39mbest-2rnn-model.h5\u001b[39m\u001b[39m'\u001b[39m, save_best_only\u001b[39m=\u001b[39m\u001b[39mTrue\u001b[39;00m)\n\u001b[1;32m      4\u001b[0m early_stopping_cb \u001b[39m=\u001b[39m keras\u001b[39m.\u001b[39mcallbacks\u001b[39m.\u001b[39mEarlyStopping(patience\u001b[39m=\u001b[39m\u001b[39m3\u001b[39m, restore_best_weights\u001b[39m=\u001b[39m\u001b[39mTrue\u001b[39;00m)\n\u001b[0;32m----> 5\u001b[0m history \u001b[39m=\u001b[39m model3\u001b[39m.\u001b[39;49mfit(train_seq, train_target, epochs\u001b[39m=\u001b[39;49m\u001b[39m100\u001b[39;49m, batch_size\u001b[39m=\u001b[39;49m\u001b[39m64\u001b[39;49m, validation_data\u001b[39m=\u001b[39;49m(val_seq, val_target), callbacks\u001b[39m=\u001b[39;49m[checkpoint_cb, early_stopping_cb])\n",
      "File \u001b[0;32m~/Library/Python/3.9/lib/python/site-packages/keras/utils/traceback_utils.py:70\u001b[0m, in \u001b[0;36mfilter_traceback.<locals>.error_handler\u001b[0;34m(*args, **kwargs)\u001b[0m\n\u001b[1;32m     67\u001b[0m     filtered_tb \u001b[39m=\u001b[39m _process_traceback_frames(e\u001b[39m.\u001b[39m__traceback__)\n\u001b[1;32m     68\u001b[0m     \u001b[39m# To get the full stack trace, call:\u001b[39;00m\n\u001b[1;32m     69\u001b[0m     \u001b[39m# `tf.debugging.disable_traceback_filtering()`\u001b[39;00m\n\u001b[0;32m---> 70\u001b[0m     \u001b[39mraise\u001b[39;00m e\u001b[39m.\u001b[39mwith_traceback(filtered_tb) \u001b[39mfrom\u001b[39;00m \u001b[39mNone\u001b[39m\n\u001b[1;32m     71\u001b[0m \u001b[39mfinally\u001b[39;00m:\n\u001b[1;32m     72\u001b[0m     \u001b[39mdel\u001b[39;00m filtered_tb\n",
      "File \u001b[0;32m~/Library/Python/3.9/lib/python/site-packages/tensorflow/python/eager/execute.py:54\u001b[0m, in \u001b[0;36mquick_execute\u001b[0;34m(op_name, num_outputs, inputs, attrs, ctx, name)\u001b[0m\n\u001b[1;32m     52\u001b[0m \u001b[39mtry\u001b[39;00m:\n\u001b[1;32m     53\u001b[0m   ctx\u001b[39m.\u001b[39mensure_initialized()\n\u001b[0;32m---> 54\u001b[0m   tensors \u001b[39m=\u001b[39m pywrap_tfe\u001b[39m.\u001b[39mTFE_Py_Execute(ctx\u001b[39m.\u001b[39m_handle, device_name, op_name,\n\u001b[1;32m     55\u001b[0m                                       inputs, attrs, num_outputs)\n\u001b[1;32m     56\u001b[0m \u001b[39mexcept\u001b[39;00m core\u001b[39m.\u001b[39m_NotOkStatusException \u001b[39mas\u001b[39;00m e:\n\u001b[1;32m     57\u001b[0m   \u001b[39mif\u001b[39;00m name \u001b[39mis\u001b[39;00m \u001b[39mnot\u001b[39;00m \u001b[39mNone\u001b[39;00m:\n",
      "\u001b[0;31mInvalidArgumentError\u001b[0m: Graph execution error:\n\nDetected at node 'RMSprop/RMSprop/update_5/truediv' defined at (most recent call last):\n    File \"/Library/Developer/CommandLineTools/Library/Frameworks/Python3.framework/Versions/3.9/lib/python3.9/runpy.py\", line 197, in _run_module_as_main\n      return _run_code(code, main_globals, None,\n    File \"/Library/Developer/CommandLineTools/Library/Frameworks/Python3.framework/Versions/3.9/lib/python3.9/runpy.py\", line 87, in _run_code\n      exec(code, run_globals)\n    File \"/Users/araina/Library/Python/3.9/lib/python/site-packages/ipykernel_launcher.py\", line 17, in <module>\n      app.launch_new_instance()\n    File \"/Users/araina/Library/Python/3.9/lib/python/site-packages/traitlets/config/application.py\", line 982, in launch_instance\n      app.start()\n    File \"/Users/araina/Library/Python/3.9/lib/python/site-packages/ipykernel/kernelapp.py\", line 712, in start\n      self.io_loop.start()\n    File \"/Users/araina/Library/Python/3.9/lib/python/site-packages/tornado/platform/asyncio.py\", line 215, in start\n      self.asyncio_loop.run_forever()\n    File \"/Library/Developer/CommandLineTools/Library/Frameworks/Python3.framework/Versions/3.9/lib/python3.9/asyncio/base_events.py\", line 596, in run_forever\n      self._run_once()\n    File \"/Library/Developer/CommandLineTools/Library/Frameworks/Python3.framework/Versions/3.9/lib/python3.9/asyncio/base_events.py\", line 1890, in _run_once\n      handle._run()\n    File \"/Library/Developer/CommandLineTools/Library/Frameworks/Python3.framework/Versions/3.9/lib/python3.9/asyncio/events.py\", line 80, in _run\n      self._context.run(self._callback, *self._args)\n    File \"/Users/araina/Library/Python/3.9/lib/python/site-packages/ipykernel/kernelbase.py\", line 510, in dispatch_queue\n      await self.process_one()\n    File \"/Users/araina/Library/Python/3.9/lib/python/site-packages/ipykernel/kernelbase.py\", line 499, in process_one\n      await dispatch(*args)\n    File \"/Users/araina/Library/Python/3.9/lib/python/site-packages/ipykernel/kernelbase.py\", line 406, in dispatch_shell\n      await result\n    File \"/Users/araina/Library/Python/3.9/lib/python/site-packages/ipykernel/kernelbase.py\", line 730, in execute_request\n      reply_content = await reply_content\n    File \"/Users/araina/Library/Python/3.9/lib/python/site-packages/ipykernel/ipkernel.py\", line 383, in do_execute\n      res = shell.run_cell(\n    File \"/Users/araina/Library/Python/3.9/lib/python/site-packages/ipykernel/zmqshell.py\", line 528, in run_cell\n      return super().run_cell(*args, **kwargs)\n    File \"/Users/araina/Library/Python/3.9/lib/python/site-packages/IPython/core/interactiveshell.py\", line 2885, in run_cell\n      result = self._run_cell(\n    File \"/Users/araina/Library/Python/3.9/lib/python/site-packages/IPython/core/interactiveshell.py\", line 2940, in _run_cell\n      return runner(coro)\n    File \"/Users/araina/Library/Python/3.9/lib/python/site-packages/IPython/core/async_helpers.py\", line 129, in _pseudo_sync_runner\n      coro.send(None)\n    File \"/Users/araina/Library/Python/3.9/lib/python/site-packages/IPython/core/interactiveshell.py\", line 3139, in run_cell_async\n      has_raised = await self.run_ast_nodes(code_ast.body, cell_name,\n    File \"/Users/araina/Library/Python/3.9/lib/python/site-packages/IPython/core/interactiveshell.py\", line 3318, in run_ast_nodes\n      if await self.run_code(code, result, async_=asy):\n    File \"/Users/araina/Library/Python/3.9/lib/python/site-packages/IPython/core/interactiveshell.py\", line 3378, in run_code\n      exec(code_obj, self.user_global_ns, self.user_ns)\n    File \"/var/folders/4p/blmn2snd51lbm787ttprr8m00000gn/T/ipykernel_10954/668584452.py\", line 5, in <module>\n      history = model3.fit(train_seq, train_target, epochs=100, batch_size=64, validation_data=(val_seq, val_target), callbacks=[checkpoint_cb, early_stopping_cb])\n    File \"/Users/araina/Library/Python/3.9/lib/python/site-packages/keras/utils/traceback_utils.py\", line 65, in error_handler\n      return fn(*args, **kwargs)\n    File \"/Users/araina/Library/Python/3.9/lib/python/site-packages/keras/engine/training.py\", line 1564, in fit\n      tmp_logs = self.train_function(iterator)\n    File \"/Users/araina/Library/Python/3.9/lib/python/site-packages/keras/engine/training.py\", line 1160, in train_function\n      return step_function(self, iterator)\n    File \"/Users/araina/Library/Python/3.9/lib/python/site-packages/keras/engine/training.py\", line 1146, in step_function\n      outputs = model.distribute_strategy.run(run_step, args=(data,))\n    File \"/Users/araina/Library/Python/3.9/lib/python/site-packages/keras/engine/training.py\", line 1135, in run_step\n      outputs = model.train_step(data)\n    File \"/Users/araina/Library/Python/3.9/lib/python/site-packages/keras/engine/training.py\", line 997, in train_step\n      self.optimizer.minimize(loss, self.trainable_variables, tape=tape)\n    File \"/Users/araina/Library/Python/3.9/lib/python/site-packages/keras/optimizers/optimizer_v2/optimizer_v2.py\", line 579, in minimize\n      return self.apply_gradients(grads_and_vars, name=name)\n    File \"/Users/araina/Library/Python/3.9/lib/python/site-packages/keras/optimizers/optimizer_v2/optimizer_v2.py\", line 738, in apply_gradients\n      return tf.__internal__.distribute.interim.maybe_merge_call(\n    File \"/Users/araina/Library/Python/3.9/lib/python/site-packages/keras/optimizers/optimizer_v2/optimizer_v2.py\", line 797, in _distributed_apply\n      update_op = distribution.extended.update(\n    File \"/Users/araina/Library/Python/3.9/lib/python/site-packages/keras/optimizers/optimizer_v2/optimizer_v2.py\", line 776, in apply_grad_to_update_var\n      update_op = self._resource_apply_dense(grad, var, **apply_kwargs)\n    File \"/Users/araina/Library/Python/3.9/lib/python/site-packages/keras/optimizers/optimizer_v2/rmsprop.py\", line 241, in _resource_apply_dense\n      var_t = var - coefficients[\"lr_t\"] * grad / (\nNode: 'RMSprop/RMSprop/update_5/truediv'\nIncompatible shapes: [0] vs. [8,32]\n\t [[{{node RMSprop/RMSprop/update_5/truediv}}]] [Op:__inference_train_function_178348]"
     ]
    }
   ],
   "source": [
    "rmsprop = keras.optimizers.RMSprop(learning_rate=1e-4)\n",
    "model3.compile(optimizer=rmsprop, loss='binary_crossentropy', metrics=['accuracy'])\n",
    "checkpoint_cb = keras.callbacks.ModelCheckpoint('best-2rnn-model.h5', save_best_only=True)\n",
    "early_stopping_cb = keras.callbacks.EarlyStopping(patience=3, restore_best_weights=True)\n",
    "history = model3.fit(train_seq, train_target, epochs=100, batch_size=64, validation_data=(val_seq, val_target), callbacks=[checkpoint_cb, early_stopping_cb])"
   ]
  },
  {
   "cell_type": "code",
   "execution_count": null,
   "metadata": {},
   "outputs": [],
   "source": [
    "plt.plot(history.history['loss'])\n",
    "plt.plot(history.history['val_loss'])\n",
    "plt.xlabel('epoch')\n",
    "plt.ylabel('loss')\n",
    "plt.legend(['train', 'val'])\n",
    "plt.show()"
   ]
  },
  {
   "cell_type": "code",
   "execution_count": null,
   "metadata": {},
   "outputs": [],
   "source": [
    "model4 = keras.Sequential()\n",
    "model4.add(keras.layers.Embedding(500, 16, input_length=100))\n",
    "model4.add(keras.layers.GRU(8))\n",
    "model4.add(keras.layers.Dense(1, activation='sigmoid'))"
   ]
  },
  {
   "cell_type": "code",
   "execution_count": null,
   "metadata": {},
   "outputs": [],
   "source": [
    "model4.summary()"
   ]
  },
  {
   "cell_type": "code",
   "execution_count": null,
   "metadata": {},
   "outputs": [],
   "source": [
    "rmsprop = keras.optimizers.RMSprop(learning_rate=1e-4)\n",
    "model4.compile(optimizer=rmsprop, loss='binary_crossentropy', metrics=['accuracy'])\n",
    "checkpoint_cb = keras.callbacks.ModelCheckpoint('best-gru-model.h5', save_best_only=True)\n",
    "early_stopping_cb = keras.callbacks.EarlyStopping(patience=3, restore_best_weights=True)\n",
    "history = model4.fit(train_seq, train_target, epochs=100, batch_size=64, validation_data=(val_seq, val_target), callbacks=[checkpoint_cb, early_stopping_cb])"
   ]
  },
  {
   "cell_type": "code",
   "execution_count": null,
   "metadata": {},
   "outputs": [],
   "source": [
    "plt.plot(history.history['loss'])\n",
    "plt.plot(history.history['val_loss'])\n",
    "plt.xlabel('epoch')\n",
    "plt.ylabel('loss')\n",
    "plt.legend(['train', 'val'])\n",
    "plt.show()"
   ]
  }
 ],
 "metadata": {
  "kernelspec": {
   "display_name": "Python 3.9.6 64-bit",
   "language": "python",
   "name": "python3"
  },
  "language_info": {
   "codemirror_mode": {
    "name": "ipython",
    "version": 3
   },
   "file_extension": ".py",
   "mimetype": "text/x-python",
   "name": "python",
   "nbconvert_exporter": "python",
   "pygments_lexer": "ipython3",
   "version": "3.9.6"
  },
  "orig_nbformat": 4,
  "vscode": {
   "interpreter": {
    "hash": "31f2aee4e71d21fbe5cf8b01ff0e069b9275f58929596ceb00d14d90e3e16cd6"
   }
  }
 },
 "nbformat": 4,
 "nbformat_minor": 2
}

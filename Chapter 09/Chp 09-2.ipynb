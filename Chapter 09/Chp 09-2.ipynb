{
 "cells": [
  {
   "cell_type": "code",
   "execution_count": 1,
   "metadata": {},
   "outputs": [],
   "source": [
    "from tensorflow.keras.datasets import imdb\n",
    "\n",
    "(train_input, train_target), (test_input, test_target) = imdb.load_data(num_words=500)"
   ]
  },
  {
   "cell_type": "code",
   "execution_count": 2,
   "metadata": {},
   "outputs": [
    {
     "name": "stdout",
     "output_type": "stream",
     "text": [
      "(25000,) (25000,)\n"
     ]
    }
   ],
   "source": [
    "print(train_input.shape, test_input.shape)"
   ]
  },
  {
   "cell_type": "code",
   "execution_count": 3,
   "metadata": {},
   "outputs": [
    {
     "name": "stdout",
     "output_type": "stream",
     "text": [
      "218\n"
     ]
    }
   ],
   "source": [
    "print(len(train_input[0]))"
   ]
  },
  {
   "cell_type": "code",
   "execution_count": 4,
   "metadata": {},
   "outputs": [
    {
     "name": "stdout",
     "output_type": "stream",
     "text": [
      "189\n"
     ]
    }
   ],
   "source": [
    "print(len(train_input[1]))"
   ]
  },
  {
   "cell_type": "code",
   "execution_count": 5,
   "metadata": {},
   "outputs": [
    {
     "name": "stdout",
     "output_type": "stream",
     "text": [
      "[1, 14, 22, 16, 43, 2, 2, 2, 2, 65, 458, 2, 66, 2, 4, 173, 36, 256, 5, 25, 100, 43, 2, 112, 50, 2, 2, 9, 35, 480, 284, 5, 150, 4, 172, 112, 167, 2, 336, 385, 39, 4, 172, 2, 2, 17, 2, 38, 13, 447, 4, 192, 50, 16, 6, 147, 2, 19, 14, 22, 4, 2, 2, 469, 4, 22, 71, 87, 12, 16, 43, 2, 38, 76, 15, 13, 2, 4, 22, 17, 2, 17, 12, 16, 2, 18, 2, 5, 62, 386, 12, 8, 316, 8, 106, 5, 4, 2, 2, 16, 480, 66, 2, 33, 4, 130, 12, 16, 38, 2, 5, 25, 124, 51, 36, 135, 48, 25, 2, 33, 6, 22, 12, 215, 28, 77, 52, 5, 14, 407, 16, 82, 2, 8, 4, 107, 117, 2, 15, 256, 4, 2, 7, 2, 5, 2, 36, 71, 43, 2, 476, 26, 400, 317, 46, 7, 4, 2, 2, 13, 104, 88, 4, 381, 15, 297, 98, 32, 2, 56, 26, 141, 6, 194, 2, 18, 4, 226, 22, 21, 134, 476, 26, 480, 5, 144, 30, 2, 18, 51, 36, 28, 224, 92, 25, 104, 4, 226, 65, 16, 38, 2, 88, 12, 16, 283, 5, 16, 2, 113, 103, 32, 15, 16, 2, 19, 178, 32]\n"
     ]
    }
   ],
   "source": [
    "print(train_input[0])"
   ]
  },
  {
   "cell_type": "code",
   "execution_count": 6,
   "metadata": {},
   "outputs": [
    {
     "name": "stdout",
     "output_type": "stream",
     "text": [
      "[1 0 0 1 0 0 1 0 1 0 1 0 0 0 0 0 1 1 0 1]\n"
     ]
    }
   ],
   "source": [
    "print(train_target[:20])"
   ]
  },
  {
   "cell_type": "code",
   "execution_count": 7,
   "metadata": {},
   "outputs": [],
   "source": [
    "from sklearn.model_selection import train_test_split\n",
    "\n",
    "train_input, val_input, train_target, val_target = train_test_split(train_input, train_target, test_size=0.2, random_state=42)"
   ]
  },
  {
   "cell_type": "code",
   "execution_count": 8,
   "metadata": {},
   "outputs": [],
   "source": [
    "import numpy as np\n",
    "\n",
    "lengths = np.array([len(x) for x in train_input])"
   ]
  },
  {
   "cell_type": "code",
   "execution_count": 9,
   "metadata": {},
   "outputs": [
    {
     "name": "stdout",
     "output_type": "stream",
     "text": [
      "239.00925 178.0\n"
     ]
    }
   ],
   "source": [
    "print(np.mean(lengths), np.median(lengths))"
   ]
  },
  {
   "cell_type": "code",
   "execution_count": 10,
   "metadata": {},
   "outputs": [
    {
     "data": {
      "image/png": "[encoded data removed]",
      "text/plain": [
       "<Figure size 640x480 with 1 Axes>"
      ]
     },
     "metadata": {},
     "output_type": "display_data"
    }
   ],
   "source": [
    "import matplotlib.pyplot as plt\n",
    "\n",
    "plt.hist(lengths)\n",
    "plt.xlabel(\"length\")\n",
    "plt.ylabel(\"frequency\")\n",
    "plt.show()"
   ]
  },
  {
   "cell_type": "code",
   "execution_count": 11,
   "metadata": {},
   "outputs": [],
   "source": [
    "from tensorflow.keras.preprocessing.sequence import pad_sequences\n",
    "\n",
    "train_seq = pad_sequences(train_input, maxlen=100)"
   ]
  },
  {
   "cell_type": "code",
   "execution_count": 12,
   "metadata": {},
   "outputs": [
    {
     "name": "stdout",
     "output_type": "stream",
     "text": [
      "(20000, 100)\n"
     ]
    }
   ],
   "source": [
    "print(train_seq.shape)"
   ]
  },
  {
   "cell_type": "code",
   "execution_count": 13,
   "metadata": {},
   "outputs": [
    {
     "name": "stdout",
     "output_type": "stream",
     "text": [
      "[ 10   4  20   9   2 364 352   5  45   6   2   2  33 269   8   2 142   2\n",
      "   5   2  17  73  17 204   5   2  19  55   2   2  92  66 104  14  20  93\n",
      "  76   2 151  33   4  58  12 188   2 151  12 215  69 224 142  73 237   6\n",
      "   2   7   2   2 188   2 103  14  31  10  10 451   7   2   5   2  80  91\n",
      "   2  30   2  34  14  20 151  50  26 131  49   2  84  46  50  37  80  79\n",
      "   6   2  46   7  14  20  10  10 470 158]\n"
     ]
    }
   ],
   "source": [
    "print(train_seq[0])"
   ]
  },
  {
   "cell_type": "code",
   "execution_count": 14,
   "metadata": {},
   "outputs": [
    {
     "name": "stdout",
     "output_type": "stream",
     "text": [
      "[6, 2, 46, 7, 14, 20, 10, 10, 470, 158]\n"
     ]
    }
   ],
   "source": [
    "print(train_input[0][-10:])"
   ]
  },
  {
   "cell_type": "code",
   "execution_count": 15,
   "metadata": {},
   "outputs": [
    {
     "name": "stdout",
     "output_type": "stream",
     "text": [
      "[  0   0   0   0   1   2 195  19  49   2   2 190   4   2 352   2 183  10\n",
      "  10  13  82  79   4   2  36  71 269   8   2  25  19  49   7   4   2   2\n",
      "   2   2   2  10  10  48  25  40   2  11   2   2  40   2   2   5   4   2\n",
      "   2  95  14 238  56 129   2  10  10  21   2  94 364 352   2   2  11 190\n",
      "  24 484   2   7  94 205 405  10  10  87   2  34  49   2   7   2   2   2\n",
      "   2   2 290   2  46  48  64  18   4   2]\n"
     ]
    }
   ],
   "source": [
    "print(train_seq[5])"
   ]
  },
  {
   "cell_type": "code",
   "execution_count": 16,
   "metadata": {},
   "outputs": [],
   "source": [
    "val_seq = pad_sequences(val_input, maxlen=100)"
   ]
  },
  {
   "cell_type": "code",
   "execution_count": 17,
   "metadata": {},
   "outputs": [],
   "source": [
    "from tensorflow import keras\n",
    "\n",
    "model = keras.Sequential()\n",
    "model.add(keras.layers.SimpleRNN(8, input_shape=(100, 500)))\n",
    "model.add(keras.layers.Dense(1, activation='sigmoid'))"
   ]
  },
  {
   "cell_type": "code",
   "execution_count": 18,
   "metadata": {},
   "outputs": [],
   "source": [
    "train_oh = keras.utils.to_categorical(train_seq)"
   ]
  },
  {
   "cell_type": "code",
   "execution_count": 19,
   "metadata": {},
   "outputs": [
    {
     "name": "stdout",
     "output_type": "stream",
     "text": [
      "(20000, 100, 500)\n"
     ]
    }
   ],
   "source": [
    "print(train_oh.shape)"
   ]
  },
  {
   "cell_type": "code",
   "execution_count": 20,
   "metadata": {},
   "outputs": [
    {
     "name": "stdout",
     "output_type": "stream",
     "text": [
      "[0. 0. 0. 0. 0. 0. 0. 0. 0. 0. 1. 0.]\n"
     ]
    }
   ],
   "source": [
    "print(train_oh[0][0][:12])"
   ]
  },
  {
   "cell_type": "code",
   "execution_count": 21,
   "metadata": {},
   "outputs": [
    {
     "name": "stdout",
     "output_type": "stream",
     "text": [
      "1.0\n"
     ]
    }
   ],
   "source": [
    "print(np.sum(train_oh[0][0]))"
   ]
  },
  {
   "cell_type": "code",
   "execution_count": 22,
   "metadata": {},
   "outputs": [],
   "source": [
    "val_oh = keras.utils.to_categorical(val_seq)"
   ]
  },
  {
   "cell_type": "code",
   "execution_count": 23,
   "metadata": {},
   "outputs": [
    {
     "name": "stdout",
     "output_type": "stream",
     "text": [
      "Model: \"sequential\"\n",
      "_________________________________________________________________\n",
      " Layer (type)                Output Shape              Param #   \n",
      "=================================================================\n",
      " simple_rnn (SimpleRNN)      (None, 8)                 4072      \n",
      "                                                                 \n",
      " dense (Dense)               (None, 1)                 9         \n",
      "                                                                 \n",
      "=================================================================\n",
      "Total params: 4,081\n",
      "Trainable params: 4,081\n",
      "Non-trainable params: 0\n",
      "_________________________________________________________________\n"
     ]
    }
   ],
   "source": [
    "model.summary()"
   ]
  },
  {
   "cell_type": "code",
   "execution_count": 24,
   "metadata": {},
   "outputs": [
    {
     "name": "stdout",
     "output_type": "stream",
     "text": [
      "Epoch 1/100\n"
     ]
    },
    {
     "name": "stderr",
     "output_type": "stream",
     "text": [
      "2022-11-29 17:23:25.792490: W tensorflow/core/platform/profile_utils/cpu_utils.cc:128] Failed to get CPU frequency: 0 Hz\n"
     ]
    },
    {
     "name": "stdout",
     "output_type": "stream",
     "text": [
      "313/313 [==============================] - 6s 18ms/step - loss: 0.6981 - accuracy: 0.4948 - val_loss: 0.6964 - val_accuracy: 0.4974\n",
      "Epoch 2/100\n",
      "313/313 [==============================] - 5s 18ms/step - loss: 0.6932 - accuracy: 0.5153 - val_loss: 0.6927 - val_accuracy: 0.5150\n",
      "Epoch 3/100\n",
      "313/313 [==============================] - 6s 18ms/step - loss: 0.6860 - accuracy: 0.5512 - val_loss: 0.6840 - val_accuracy: 0.5582\n",
      "Epoch 4/100\n",
      "313/313 [==============================] - 6s 19ms/step - loss: 0.6750 - accuracy: 0.5986 - val_loss: 0.6729 - val_accuracy: 0.6006\n",
      "Epoch 5/100\n",
      "313/313 [==============================] - 6s 19ms/step - loss: 0.6611 - accuracy: 0.6363 - val_loss: 0.6590 - val_accuracy: 0.6366\n",
      "Epoch 6/100\n",
      "313/313 [==============================] - 6s 20ms/step - loss: 0.6458 - accuracy: 0.6655 - val_loss: 0.6451 - val_accuracy: 0.6608\n",
      "Epoch 7/100\n",
      "313/313 [==============================] - 6s 19ms/step - loss: 0.6306 - accuracy: 0.6841 - val_loss: 0.6312 - val_accuracy: 0.6748\n",
      "Epoch 8/100\n",
      "313/313 [==============================] - 6s 18ms/step - loss: 0.6156 - accuracy: 0.7007 - val_loss: 0.6174 - val_accuracy: 0.6958\n",
      "Epoch 9/100\n",
      "313/313 [==============================] - 6s 18ms/step - loss: 0.6003 - accuracy: 0.7128 - val_loss: 0.6041 - val_accuracy: 0.7022\n",
      "Epoch 10/100\n",
      "313/313 [==============================] - 6s 18ms/step - loss: 0.5870 - accuracy: 0.7232 - val_loss: 0.5901 - val_accuracy: 0.7176\n",
      "Epoch 11/100\n",
      "313/313 [==============================] - 6s 20ms/step - loss: 0.5750 - accuracy: 0.7290 - val_loss: 0.5814 - val_accuracy: 0.7168\n",
      "Epoch 12/100\n",
      "313/313 [==============================] - 6s 20ms/step - loss: 0.5628 - accuracy: 0.7384 - val_loss: 0.5692 - val_accuracy: 0.7280\n",
      "Epoch 13/100\n",
      "313/313 [==============================] - 6s 18ms/step - loss: 0.5524 - accuracy: 0.7437 - val_loss: 0.5595 - val_accuracy: 0.7344\n",
      "Epoch 14/100\n",
      "313/313 [==============================] - 6s 20ms/step - loss: 0.5430 - accuracy: 0.7491 - val_loss: 0.5519 - val_accuracy: 0.7374\n",
      "Epoch 15/100\n",
      "313/313 [==============================] - 6s 18ms/step - loss: 0.5341 - accuracy: 0.7545 - val_loss: 0.5413 - val_accuracy: 0.7456\n",
      "Epoch 16/100\n",
      "313/313 [==============================] - 6s 18ms/step - loss: 0.5253 - accuracy: 0.7581 - val_loss: 0.5373 - val_accuracy: 0.7478\n",
      "Epoch 17/100\n",
      "313/313 [==============================] - 6s 18ms/step - loss: 0.5166 - accuracy: 0.7639 - val_loss: 0.5332 - val_accuracy: 0.7442\n",
      "Epoch 18/100\n",
      "313/313 [==============================] - 6s 18ms/step - loss: 0.5097 - accuracy: 0.7673 - val_loss: 0.5252 - val_accuracy: 0.7510\n",
      "Epoch 19/100\n",
      "313/313 [==============================] - 6s 18ms/step - loss: 0.5034 - accuracy: 0.7706 - val_loss: 0.5174 - val_accuracy: 0.7568\n",
      "Epoch 20/100\n",
      "313/313 [==============================] - 6s 19ms/step - loss: 0.4968 - accuracy: 0.7750 - val_loss: 0.5155 - val_accuracy: 0.7566\n",
      "Epoch 21/100\n",
      "313/313 [==============================] - 6s 20ms/step - loss: 0.4907 - accuracy: 0.7781 - val_loss: 0.5132 - val_accuracy: 0.7566\n",
      "Epoch 22/100\n",
      "313/313 [==============================] - 6s 20ms/step - loss: 0.4861 - accuracy: 0.7811 - val_loss: 0.5081 - val_accuracy: 0.7606\n",
      "Epoch 23/100\n",
      "313/313 [==============================] - 7s 22ms/step - loss: 0.4804 - accuracy: 0.7855 - val_loss: 0.5056 - val_accuracy: 0.7596\n",
      "Epoch 24/100\n",
      "313/313 [==============================] - 6s 18ms/step - loss: 0.4774 - accuracy: 0.7853 - val_loss: 0.5025 - val_accuracy: 0.7628\n",
      "Epoch 25/100\n",
      "313/313 [==============================] - 6s 18ms/step - loss: 0.4733 - accuracy: 0.7880 - val_loss: 0.5009 - val_accuracy: 0.7628\n",
      "Epoch 26/100\n",
      "313/313 [==============================] - 6s 18ms/step - loss: 0.4692 - accuracy: 0.7904 - val_loss: 0.4988 - val_accuracy: 0.7650\n",
      "Epoch 27/100\n",
      "313/313 [==============================] - 6s 18ms/step - loss: 0.4660 - accuracy: 0.7933 - val_loss: 0.4964 - val_accuracy: 0.7664\n",
      "Epoch 28/100\n",
      "313/313 [==============================] - 7s 21ms/step - loss: 0.4636 - accuracy: 0.7947 - val_loss: 0.4973 - val_accuracy: 0.7642\n",
      "Epoch 29/100\n",
      "313/313 [==============================] - 6s 18ms/step - loss: 0.4616 - accuracy: 0.7954 - val_loss: 0.4930 - val_accuracy: 0.7664\n",
      "Epoch 30/100\n",
      "313/313 [==============================] - 6s 18ms/step - loss: 0.4587 - accuracy: 0.7958 - val_loss: 0.4895 - val_accuracy: 0.7694\n",
      "Epoch 31/100\n",
      "313/313 [==============================] - 6s 18ms/step - loss: 0.4560 - accuracy: 0.7976 - val_loss: 0.4871 - val_accuracy: 0.7716\n",
      "Epoch 32/100\n",
      "313/313 [==============================] - 6s 18ms/step - loss: 0.4529 - accuracy: 0.7987 - val_loss: 0.4864 - val_accuracy: 0.7716\n",
      "Epoch 33/100\n",
      "313/313 [==============================] - 6s 18ms/step - loss: 0.4513 - accuracy: 0.7997 - val_loss: 0.4853 - val_accuracy: 0.7694\n",
      "Epoch 34/100\n",
      "313/313 [==============================] - 5s 18ms/step - loss: 0.4488 - accuracy: 0.8025 - val_loss: 0.4829 - val_accuracy: 0.7752\n",
      "Epoch 35/100\n",
      "313/313 [==============================] - 6s 18ms/step - loss: 0.4466 - accuracy: 0.8048 - val_loss: 0.4825 - val_accuracy: 0.7742\n",
      "Epoch 36/100\n",
      "313/313 [==============================] - 5s 18ms/step - loss: 0.4452 - accuracy: 0.8037 - val_loss: 0.4807 - val_accuracy: 0.7740\n",
      "Epoch 37/100\n",
      "313/313 [==============================] - 6s 18ms/step - loss: 0.4427 - accuracy: 0.8054 - val_loss: 0.4809 - val_accuracy: 0.7734\n",
      "Epoch 38/100\n",
      "313/313 [==============================] - 5s 17ms/step - loss: 0.4408 - accuracy: 0.8077 - val_loss: 0.4790 - val_accuracy: 0.7762\n",
      "Epoch 39/100\n",
      "313/313 [==============================] - 5s 17ms/step - loss: 0.4396 - accuracy: 0.8072 - val_loss: 0.4775 - val_accuracy: 0.7750\n",
      "Epoch 40/100\n",
      "313/313 [==============================] - 6s 18ms/step - loss: 0.4369 - accuracy: 0.8091 - val_loss: 0.4772 - val_accuracy: 0.7748\n",
      "Epoch 41/100\n",
      "313/313 [==============================] - 5s 17ms/step - loss: 0.4358 - accuracy: 0.8092 - val_loss: 0.4757 - val_accuracy: 0.7796\n",
      "Epoch 42/100\n",
      "313/313 [==============================] - 5s 17ms/step - loss: 0.4337 - accuracy: 0.8109 - val_loss: 0.4792 - val_accuracy: 0.7748\n",
      "Epoch 43/100\n",
      "313/313 [==============================] - 5s 17ms/step - loss: 0.4320 - accuracy: 0.8120 - val_loss: 0.4750 - val_accuracy: 0.7814\n",
      "Epoch 44/100\n",
      "313/313 [==============================] - 5s 17ms/step - loss: 0.4312 - accuracy: 0.8135 - val_loss: 0.4741 - val_accuracy: 0.7826\n",
      "Epoch 45/100\n",
      "313/313 [==============================] - 5s 17ms/step - loss: 0.4297 - accuracy: 0.8142 - val_loss: 0.4728 - val_accuracy: 0.7842\n",
      "Epoch 46/100\n",
      "313/313 [==============================] - 5s 17ms/step - loss: 0.4284 - accuracy: 0.8141 - val_loss: 0.4727 - val_accuracy: 0.7828\n",
      "Epoch 47/100\n",
      "313/313 [==============================] - 5s 17ms/step - loss: 0.4272 - accuracy: 0.8154 - val_loss: 0.4727 - val_accuracy: 0.7820\n",
      "Epoch 48/100\n",
      "313/313 [==============================] - 5s 17ms/step - loss: 0.4259 - accuracy: 0.8166 - val_loss: 0.4733 - val_accuracy: 0.7816\n",
      "Epoch 49/100\n",
      "313/313 [==============================] - 5s 17ms/step - loss: 0.4248 - accuracy: 0.8175 - val_loss: 0.4714 - val_accuracy: 0.7814\n",
      "Epoch 50/100\n",
      "313/313 [==============================] - 5s 17ms/step - loss: 0.4230 - accuracy: 0.8182 - val_loss: 0.4730 - val_accuracy: 0.7808\n",
      "Epoch 51/100\n",
      "313/313 [==============================] - 5s 17ms/step - loss: 0.4220 - accuracy: 0.8185 - val_loss: 0.4708 - val_accuracy: 0.7822\n",
      "Epoch 52/100\n",
      "313/313 [==============================] - 5s 17ms/step - loss: 0.4209 - accuracy: 0.8196 - val_loss: 0.4718 - val_accuracy: 0.7828\n",
      "Epoch 53/100\n",
      "313/313 [==============================] - 5s 17ms/step - loss: 0.4199 - accuracy: 0.8196 - val_loss: 0.4697 - val_accuracy: 0.7862\n",
      "Epoch 54/100\n",
      "313/313 [==============================] - 5s 17ms/step - loss: 0.4187 - accuracy: 0.8206 - val_loss: 0.4693 - val_accuracy: 0.7860\n",
      "Epoch 55/100\n",
      "313/313 [==============================] - 5s 17ms/step - loss: 0.4181 - accuracy: 0.8206 - val_loss: 0.4704 - val_accuracy: 0.7796\n",
      "Epoch 56/100\n",
      "313/313 [==============================] - 5s 17ms/step - loss: 0.4167 - accuracy: 0.8219 - val_loss: 0.4720 - val_accuracy: 0.7874\n",
      "Epoch 57/100\n",
      "313/313 [==============================] - 5s 17ms/step - loss: 0.4159 - accuracy: 0.8216 - val_loss: 0.4725 - val_accuracy: 0.7816\n"
     ]
    }
   ],
   "source": [
    "rmsprop = keras.optimizers.RMSprop(learning_rate=1e-4)\n",
    "model.compile(optimizer=rmsprop, loss='binary_crossentropy', metrics=['accuracy'])\n",
    "checkpoint_cb = keras.callbacks.ModelCheckpoint('best-simplernn-model.h5', save_best_only=True)\n",
    "early_stopping_cb = keras.callbacks.EarlyStopping(patience=3, restore_best_weights=True)\n",
    "history = model.fit(train_oh, train_target, epochs=100, batch_size=64, validation_data=(val_oh, val_target), callbacks=[checkpoint_cb, early_stopping_cb])"
   ]
  },
  {
   "cell_type": "code",
   "execution_count": 25,
   "metadata": {},
   "outputs": [
    {
     "name": "stdout",
     "output_type": "stream",
     "text": [
      "8000000 4000000000\n"
     ]
    }
   ],
   "source": [
    "print(train_seq.nbytes, train_oh.nbytes)"
   ]
  },
  {
   "cell_type": "code",
   "execution_count": 26,
   "metadata": {},
   "outputs": [],
   "source": [
    "model2 = keras.Sequential()\n",
    "model2.add(keras.layers.Embedding(500, 16, input_length=100))\n",
    "model2.add(keras.layers.SimpleRNN(8))\n",
    "model2.add(keras.layers.Dense(1, activation='sigmoid'))"
   ]
  },
  {
   "cell_type": "code",
   "execution_count": 27,
   "metadata": {},
   "outputs": [
    {
     "name": "stdout",
     "output_type": "stream",
     "text": [
      "Model: \"sequential_1\"\n",
      "_________________________________________________________________\n",
      " Layer (type)                Output Shape              Param #   \n",
      "=================================================================\n",
      " embedding (Embedding)       (None, 100, 16)           8000      \n",
      "                                                                 \n",
      " simple_rnn_1 (SimpleRNN)    (None, 8)                 200       \n",
      "                                                                 \n",
      " dense_1 (Dense)             (None, 1)                 9         \n",
      "                                                                 \n",
      "=================================================================\n",
      "Total params: 8,209\n",
      "Trainable params: 8,209\n",
      "Non-trainable params: 0\n",
      "_________________________________________________________________\n"
     ]
    }
   ],
   "source": [
    "model2.summary()"
   ]
  },
  {
   "cell_type": "code",
   "execution_count": 28,
   "metadata": {},
   "outputs": [
    {
     "name": "stdout",
     "output_type": "stream",
     "text": [
      "Epoch 1/100\n",
      "313/313 [==============================] - 3s 7ms/step - loss: 0.6943 - accuracy: 0.5095 - val_loss: 0.6929 - val_accuracy: 0.5144\n",
      "Epoch 2/100\n",
      "313/313 [==============================] - 2s 6ms/step - loss: 0.6888 - accuracy: 0.5341 - val_loss: 0.6896 - val_accuracy: 0.5354\n",
      "Epoch 3/100\n",
      "313/313 [==============================] - 2s 6ms/step - loss: 0.6836 - accuracy: 0.5662 - val_loss: 0.6853 - val_accuracy: 0.5554\n",
      "Epoch 4/100\n",
      "313/313 [==============================] - 2s 6ms/step - loss: 0.6768 - accuracy: 0.5950 - val_loss: 0.6781 - val_accuracy: 0.5798\n",
      "Epoch 5/100\n",
      "313/313 [==============================] - 2s 6ms/step - loss: 0.6666 - accuracy: 0.6184 - val_loss: 0.6677 - val_accuracy: 0.6118\n",
      "Epoch 6/100\n",
      "313/313 [==============================] - 2s 6ms/step - loss: 0.6551 - accuracy: 0.6392 - val_loss: 0.6573 - val_accuracy: 0.6372\n",
      "Epoch 7/100\n",
      "313/313 [==============================] - 2s 6ms/step - loss: 0.6440 - accuracy: 0.6528 - val_loss: 0.6494 - val_accuracy: 0.6414\n",
      "Epoch 8/100\n",
      "313/313 [==============================] - 2s 6ms/step - loss: 0.6338 - accuracy: 0.6680 - val_loss: 0.6440 - val_accuracy: 0.6464\n",
      "Epoch 9/100\n",
      "313/313 [==============================] - 2s 6ms/step - loss: 0.6247 - accuracy: 0.6751 - val_loss: 0.6360 - val_accuracy: 0.6520\n",
      "Epoch 10/100\n",
      "313/313 [==============================] - 2s 6ms/step - loss: 0.6163 - accuracy: 0.6816 - val_loss: 0.6302 - val_accuracy: 0.6564\n",
      "Epoch 11/100\n",
      "313/313 [==============================] - 2s 6ms/step - loss: 0.6085 - accuracy: 0.6859 - val_loss: 0.6268 - val_accuracy: 0.6572\n",
      "Epoch 12/100\n",
      "313/313 [==============================] - 2s 6ms/step - loss: 0.6010 - accuracy: 0.6932 - val_loss: 0.6184 - val_accuracy: 0.6706\n",
      "Epoch 13/100\n",
      "313/313 [==============================] - 2s 6ms/step - loss: 0.5935 - accuracy: 0.6980 - val_loss: 0.6113 - val_accuracy: 0.6778\n",
      "Epoch 14/100\n",
      "313/313 [==============================] - 2s 6ms/step - loss: 0.5864 - accuracy: 0.7036 - val_loss: 0.6067 - val_accuracy: 0.6802\n",
      "Epoch 15/100\n",
      "313/313 [==============================] - 2s 7ms/step - loss: 0.5802 - accuracy: 0.7118 - val_loss: 0.6049 - val_accuracy: 0.6846\n",
      "Epoch 16/100\n",
      "313/313 [==============================] - 2s 7ms/step - loss: 0.5742 - accuracy: 0.7157 - val_loss: 0.5999 - val_accuracy: 0.6850\n",
      "Epoch 17/100\n",
      "313/313 [==============================] - 2s 7ms/step - loss: 0.5696 - accuracy: 0.7186 - val_loss: 0.5977 - val_accuracy: 0.6852\n",
      "Epoch 18/100\n",
      "313/313 [==============================] - 2s 6ms/step - loss: 0.5650 - accuracy: 0.7223 - val_loss: 0.6005 - val_accuracy: 0.6850\n",
      "Epoch 19/100\n",
      "313/313 [==============================] - 2s 6ms/step - loss: 0.5620 - accuracy: 0.7237 - val_loss: 0.5945 - val_accuracy: 0.6846\n",
      "Epoch 20/100\n",
      "313/313 [==============================] - 2s 6ms/step - loss: 0.5583 - accuracy: 0.7264 - val_loss: 0.5921 - val_accuracy: 0.6886\n",
      "Epoch 21/100\n",
      "313/313 [==============================] - 2s 6ms/step - loss: 0.5549 - accuracy: 0.7301 - val_loss: 0.5936 - val_accuracy: 0.6844\n",
      "Epoch 22/100\n",
      "313/313 [==============================] - 2s 6ms/step - loss: 0.5526 - accuracy: 0.7320 - val_loss: 0.5901 - val_accuracy: 0.6916\n",
      "Epoch 23/100\n",
      "313/313 [==============================] - 2s 6ms/step - loss: 0.5500 - accuracy: 0.7321 - val_loss: 0.5971 - val_accuracy: 0.6802\n",
      "Epoch 24/100\n",
      "313/313 [==============================] - 2s 6ms/step - loss: 0.5483 - accuracy: 0.7358 - val_loss: 0.5886 - val_accuracy: 0.6924\n",
      "Epoch 25/100\n",
      "313/313 [==============================] - 2s 6ms/step - loss: 0.5466 - accuracy: 0.7359 - val_loss: 0.5886 - val_accuracy: 0.6946\n",
      "Epoch 26/100\n",
      "313/313 [==============================] - 2s 6ms/step - loss: 0.5446 - accuracy: 0.7376 - val_loss: 0.5957 - val_accuracy: 0.6918\n",
      "Epoch 27/100\n",
      "313/313 [==============================] - 2s 6ms/step - loss: 0.5429 - accuracy: 0.7372 - val_loss: 0.5885 - val_accuracy: 0.6960\n",
      "Epoch 28/100\n",
      "313/313 [==============================] - 2s 6ms/step - loss: 0.5404 - accuracy: 0.7406 - val_loss: 0.5875 - val_accuracy: 0.6926\n",
      "Epoch 29/100\n",
      "313/313 [==============================] - 2s 6ms/step - loss: 0.5395 - accuracy: 0.7409 - val_loss: 0.5890 - val_accuracy: 0.6964\n",
      "Epoch 30/100\n",
      "313/313 [==============================] - 2s 6ms/step - loss: 0.5374 - accuracy: 0.7415 - val_loss: 0.5890 - val_accuracy: 0.6944\n",
      "Epoch 31/100\n",
      "313/313 [==============================] - 2s 6ms/step - loss: 0.5368 - accuracy: 0.7434 - val_loss: 0.5860 - val_accuracy: 0.6980\n",
      "Epoch 32/100\n",
      "313/313 [==============================] - 2s 6ms/step - loss: 0.5358 - accuracy: 0.7441 - val_loss: 0.5866 - val_accuracy: 0.6950\n",
      "Epoch 33/100\n",
      "313/313 [==============================] - 2s 6ms/step - loss: 0.5338 - accuracy: 0.7440 - val_loss: 0.5876 - val_accuracy: 0.6960\n",
      "Epoch 34/100\n",
      "313/313 [==============================] - 2s 6ms/step - loss: 0.5320 - accuracy: 0.7477 - val_loss: 0.5971 - val_accuracy: 0.6916\n"
     ]
    }
   ],
   "source": [
    "rmsprop = keras.optimizers.RMSprop(learning_rate=1e-4)\n",
    "model2.compile(optimizer=rmsprop, loss='binary_crossentropy', metrics=['accuracy'])\n",
    "checkpoint_cb = keras.callbacks.ModelCheckpoint('best-embedding-model.h5', save_best_only=True)\n",
    "early_stopping_cb = keras.callbacks.EarlyStopping(patience=3, restore_best_weights=True)\n",
    "history = model2.fit(train_seq, train_target, epochs=100, batch_size=64, validation_data=(val_seq, val_target), callbacks=[checkpoint_cb, early_stopping_cb])"
   ]
  },
  {
   "cell_type": "code",
   "execution_count": 29,
   "metadata": {},
   "outputs": [
    {
     "data": {
      "image/png": "[encoded data removed]",
      "text/plain": [
       "<Figure size 640x480 with 1 Axes>"
      ]
     },
     "metadata": {},
     "output_type": "display_data"
    }
   ],
   "source": [
    "plt.plot(history.history['loss'])\n",
    "plt.plot(history.history['val_loss'])\n",
    "plt.xlabel('epoch')\n",
    "plt.ylabel('loss')\n",
    "plt.legend(['train', 'val'])\n",
    "plt.show()"
   ]
  }
 ],
 "metadata": {
  "kernelspec": {
   "display_name": "Python 3.9.6 64-bit",
   "language": "python",
   "name": "python3"
  },
  "language_info": {
   "codemirror_mode": {
    "name": "ipython",
    "version": 3
   },
   "file_extension": ".py",
   "mimetype": "text/x-python",
   "name": "python",
   "nbconvert_exporter": "python",
   "pygments_lexer": "ipython3",
   "version": "3.9.6"
  },
  "orig_nbformat": 4,
  "vscode": {
   "interpreter": {
    "hash": "31f2aee4e71d21fbe5cf8b01ff0e069b9275f58929596ceb00d14d90e3e16cd6"
   }
  }
 },
 "nbformat": 4,
 "nbformat_minor": 2
}
